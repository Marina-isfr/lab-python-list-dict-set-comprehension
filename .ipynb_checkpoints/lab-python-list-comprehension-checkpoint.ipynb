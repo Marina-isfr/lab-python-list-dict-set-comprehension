{
 "cells": [
  {
   "cell_type": "markdown",
   "id": "25d7736c-ba17-4aff-b6bb-66eba20fbf4e",
   "metadata": {},
   "source": [
    "# Lab | List, Dict and Set Comprehension"
   ]
  },
  {
   "cell_type": "markdown",
   "id": "7dd3cbde-675a-4b81-92c3-f728846dbe06",
   "metadata": {},
   "source": [
    "## Exercise: Managing Customer Orders Optimized with Comprehension"
   ]
  },
  {
   "cell_type": "markdown",
   "id": "5d500160-2fb7-4777-b5e4-09d45ebaf328",
   "metadata": {},
   "source": [
    "In the previous exercise, you developed a program to manage customer orders and inventory. Now, let's take it a step further and incorporate comprehension into your code.\n",
    "\n",
    "Follow the steps below to complete the exercise:\n",
    "\n",
    "1. Review your code from the previous exercise and identify areas where you can apply comprehension to simplify and streamline your code. \n",
    "\n",
    "    - *Hint: Apply it to initialize inventory, updating the inventory and printing the updated inventory.*\n",
    "    \n",
    "    - For example, in initializing the inventory, we could have:\n",
    "    \n",
    "        ```python\n",
    "        def initialize_inventory(products):\n",
    "            inventory = {product: int(input(f\"Enter the quantity of {product}s available: \")) for product in products}\n",
    "            return inventory\n",
    "\n",
    "        ```\n",
    "<br>\n",
    "    \n",
    "    \n",
    "2. Modify the function get_customer_orders so it prompts the user to enter the number of customer orders and gathers the product names using a loop and user input. Use comprehension.\n",
    "\n",
    "3. Add a new function to calculate the total price of the customer order. For each product in customer_orders, prompt the user to enter the price of that product. Use comprehension to calculate the total price. Note: assume that the user can only have 1 unit of each product.\n",
    "\n",
    "4. Modify the update_inventory function to remove the product from the inventory if its quantity becomes zero after fulfilling the customer orders. Use comprehension to filter out the products with a quantity of zero from the inventory.\n",
    "\n",
    "5. Print the total price of the customer order.\n",
    "\n",
    "Your code should produce output similar to the following:\n",
    "\n",
    "```python\n",
    "Enter the quantity of t-shirts available:  5\n",
    "Enter the quantity of mugs available:  4\n",
    "Enter the quantity of hats available:  3\n",
    "Enter the quantity of books available:  2\n",
    "Enter the quantity of keychains available:  1\n",
    "Enter the number of customer orders:  2\n",
    "Enter the name of a product that a customer wants to order:  hat\n",
    "Enter the name of a product that a customer wants to order:  keychain\n",
    "\n",
    "Order Statistics:\n",
    "Total Products Ordered: 2\n",
    "Percentage of Unique Products Ordered: 40.0\n",
    "\n",
    "Updated Inventory:\n",
    "t-shirt: 5\n",
    "mug: 4\n",
    "hat: 2\n",
    "book: 2\n",
    "Enter the price of keychain:  5\n",
    "Enter the price of hat:  10\n",
    "Total Price: 15.0\n",
    "\n",
    "```\n"
   ]
  },
  {
   "cell_type": "code",
   "execution_count": 16,
   "id": "f981c794-d6ac-4e76-8e12-1d952da63ebf",
   "metadata": {
    "editable": true,
    "slideshow": {
     "slide_type": ""
    },
    "tags": []
   },
   "outputs": [
    {
     "name": "stdin",
     "output_type": "stream",
     "text": [
      "Enter the quantity of t-shirts available:  38\n",
      "Enter the quantity of mugs available:  34\n",
      "Enter the quantity of hats available:  28\n",
      "Enter the quantity of books available:  72\n",
      "Enter the quantity of keychains available:  44\n"
     ]
    },
    {
     "name": "stdout",
     "output_type": "stream",
     "text": [
      "{'t-shirt': 38, 'mug': 34, 'hat': 28, 'book': 72, 'keychain': 44}\n"
     ]
    }
   ],
   "source": [
    "#Modify the function get_customer_orders so it prompts #In the previous exercise, you improved the code for managing customer orders by using loops and flow control. Now, let's take it a step further and refactor the code by introducing functions.\n",
    "#Follow the steps below to complete the exercise:\n",
    "#Define a function named initialize_inventory that takes products as a parameter. Inside the function, implement the code for initializing the inventory dictionary using a loop and user input.\n",
    "\n",
    "products = [\"t-shirt\", \"mug\", \"hat\", \"book\", \"keychain\"]\n",
    "\n",
    "inventory = [product: int(input(f\"Enter the quantity of {product}s available: \")) for product in products]\n",
    "print(inventory)\n"
   ]
  },
  {
   "cell_type": "code",
   "execution_count": 81,
   "id": "bbd32d82-9c93-4c52-afdb-03fc9cf1b256",
   "metadata": {
    "editable": true,
    "slideshow": {
     "slide_type": ""
    },
    "tags": []
   },
   "outputs": [
    {
     "name": "stdout",
     "output_type": "stream",
     "text": [
      "['t-shirt38', 'mug34', 'hat24', 'book70', 'keychain44']\n"
     ]
    }
   ],
   "source": [
    "customers_orders={'hat': 4, 'book': 2}\n",
    "\n",
    "updated_inventory= [f\"{product}{inventory[product] - customers_orders.get(product, 0)}\" for product in inventory]\n",
    "print(updated_inventory)"
   ]
  },
  {
   "cell_type": "code",
   "execution_count": 89,
   "id": "0f39b3b5-83fa-4c08-a213-f60bb6b24316",
   "metadata": {
    "editable": true,
    "slideshow": {
     "slide_type": ""
    },
    "tags": []
   },
   "outputs": [
    {
     "name": "stdout",
     "output_type": "stream",
     "text": [
      "('t-shirt', 38)\n",
      "('mug', 34)\n",
      "('hat', 28)\n",
      "('book', 72)\n",
      "('keychain', 44)\n"
     ]
    }
   ],
   "source": [
    "print_updated_inventory= [print(updated_inventory) for updated_inventory in inventory.items()]"
   ]
  },
  {
   "cell_type": "code",
   "execution_count": 192,
   "id": "83a0d37d-9407-45b6-a556-78550c268df8",
   "metadata": {},
   "outputs": [
    {
     "name": "stdin",
     "output_type": "stream",
     "text": [
      "Please enter the name of a product from the following ['t-shirt', 'mug', 'hat', 'book', 'keychain'] you would like to order (or type 'done' to finish):  mug\n",
      "Please enter the quantity of mug you want to order:  2\n",
      "Please enter the name of a product from the following ['t-shirt', 'mug', 'hat', 'book', 'keychain'] you would like to order (or type 'done' to finish):  mug\n",
      "Please enter the quantity of mug you want to order:  1\n",
      "Please enter the name of a product from the following ['t-shirt', 'mug', 'hat', 'book', 'keychain'] you would like to order (or type 'done' to finish):  book\n",
      "Please enter the quantity of book you want to order:  5\n",
      "Please enter the name of a product from the following ['t-shirt', 'mug', 'hat', 'book', 'keychain'] you would like to order (or type 'done' to finish):  hat\n",
      "Please enter the quantity of hat you want to order:  8\n",
      "Please enter the name of a product from the following ['t-shirt', 'mug', 'hat', 'book', 'keychain'] you would like to order (or type 'done' to finish):  done\n"
     ]
    },
    {
     "name": "stdout",
     "output_type": "stream",
     "text": [
      "{('book', 5), ('mug', 3), ('hat', 8)}\n"
     ]
    },
    {
     "data": {
      "text/plain": [
       "set"
      ]
     },
     "execution_count": 192,
     "metadata": {},
     "output_type": "execute_result"
    }
   ],
   "source": [
    "#Modify the function get_customer_orders so it prompts the user to enter the number of customer orders and gathers the product names using a loop and user input. Use comprehension\n",
    "\n",
    "def get_customers_orders():\n",
    "    orders = {}\n",
    "    while True:\n",
    "        product_name = input(f\"Please enter the name of a product from the following {products} you would like to order (or type 'done' to finish): \")\n",
    "        if product_name == 'done':\n",
    "            break\n",
    "        quantity = int(input(f\"Please enter the quantity of {product_name} you want to order: \"))\n",
    "        orders[product_name] = orders.get(product_name, 0) + quantity\n",
    "    return {(product, quantity) for product, quantity in orders.items()}\n",
    "\n",
    "customer_orders= get_customers_orders()\n",
    "print(customer_orders)\n",
    "type(customer_orders)"
   ]
  },
  {
   "cell_type": "code",
   "execution_count": 237,
   "id": "0584c75f-6200-4172-b963-81356d006cb5",
   "metadata": {
    "tags": []
   },
   "outputs": [
    {
     "name": "stdin",
     "output_type": "stream",
     "text": [
      "Please enter the price of book:  4\n",
      "Please enter the price of mug:  5\n",
      "Please enter the price of hat:  67\n"
     ]
    },
    {
     "name": "stdout",
     "output_type": "stream",
     "text": [
      "Total price: 571.0\n"
     ]
    }
   ],
   "source": [
    "#Add a new function to calculate the total price of the customer order. For each product in customer_orders, prompt the user to enter the price of that product. Use comprehension to calculate the total price. Note: assume that the user can only have 1 unit of each product.\n",
    "\n",
    "customer_orders_dict = {item[0]: item[1] for item in customer_orders}\n",
    "\n",
    "def calculate_total_price(customer_orders):\n",
    "    total_price = sum(float(input(f\"Please enter the price of {product}: \")) * quantity for product, quantity in customer_orders.items())\n",
    "    return total_price\n",
    "\n",
    "# Example usage:\n",
    "total_price = calculate_total_price(customer_orders_dict)\n",
    "print(\"Total price:\", total_price)\n",
    "\n",
    "\n"
   ]
  },
  {
   "cell_type": "code",
   "execution_count": 252,
   "id": "02256dc8-7c5a-409f-9199-a82402c1e8f3",
   "metadata": {},
   "outputs": [
    {
     "name": "stdin",
     "output_type": "stream",
     "text": [
      "Enter the quantity of t-shirts available:  49\n",
      "Enter the quantity of mugs available:  86\n",
      "Enter the quantity of hats available:  48\n",
      "Enter the quantity of books available:  74\n",
      "Enter the quantity of keychains available:  22\n",
      "Please enter the name of a product from the following ['t-shirt', 'mug', 'hat', 'book', 'keychain'] you would like to order (or type 'done' to finish):  mug\n",
      "Please enter the quantity of mug you want to order:  2\n",
      "Please enter the name of a product from the following ['t-shirt', 'mug', 'hat', 'book', 'keychain'] you would like to order (or type 'done' to finish):  mug\n",
      "Please enter the quantity of mug you want to order:  6\n",
      "Please enter the name of a product from the following ['t-shirt', 'mug', 'hat', 'book', 'keychain'] you would like to order (or type 'done' to finish):  book\n",
      "Please enter the quantity of book you want to order:  5\n",
      "Please enter the name of a product from the following ['t-shirt', 'mug', 'hat', 'book', 'keychain'] you would like to order (or type 'done' to finish):  hat\n",
      "Please enter the quantity of hat you want to order:  2\n",
      "Please enter the name of a product from the following ['t-shirt', 'mug', 'hat', 'book', 'keychain'] you would like to order (or type 'done' to finish):  done\n"
     ]
    },
    {
     "name": "stdout",
     "output_type": "stream",
     "text": [
      "Order Statistics:\n",
      "Total Products Ordered: 15\n",
      "Percentage of Unique Products Ordered: 60.0%\n",
      "Updated Inventory:\n",
      "t-shirt: 49\n",
      "mug: 78\n",
      "hat: 46\n",
      "book: 69\n",
      "keychain: 22\n"
     ]
    },
    {
     "name": "stdin",
     "output_type": "stream",
     "text": [
      "Please enter the price of mug:  3.5\n",
      "Please enter the price of book:  17.2\n",
      "Please enter the price of hat:  15.9\n"
     ]
    },
    {
     "name": "stdout",
     "output_type": "stream",
     "text": [
      "Total Price: 145.8\n"
     ]
    }
   ],
   "source": [
    "#Modify the update_inventory function to remove the product from the inventory if its quantity becomes zero after fulfilling the customer orders. Use comprehension to filter out the products with a quantity of zero from the inventory.\n",
    "#Print the total price of the customer order.\n",
    "\n",
    "\n",
    "def initialize_inventory(products):\n",
    "    inventory = {}\n",
    "    for product in products:\n",
    "        stock = int(input(f\"Enter the quantity of {product}s available: \"))\n",
    "        inventory[product] = stock\n",
    "    return inventory\n",
    "\n",
    "def get_customers_orders(products):\n",
    "    orders = {}\n",
    "    while True:\n",
    "        product_name = input(f\"Please enter the name of a product from the following {products} you would like to order (or type 'done' to finish): \")\n",
    "        if product_name == 'done':\n",
    "            break\n",
    "        quantity = int(input(f\"Please enter the quantity of {product_name} you want to order: \"))\n",
    "        orders[product_name] = orders.get(product_name, 0) + quantity\n",
    "    return orders\n",
    "\n",
    "def update_inventory(customer_orders, inventory):\n",
    "    for product, quantity_ordered in list(customer_orders.items()):\n",
    "        inventory[product] = inventory.get(product, 0) - quantity_ordered\n",
    "        if inventory[product] <= 0:\n",
    "            del inventory[product]\n",
    "    return inventory\n",
    "\n",
    "def calculate_total_price(customer_orders):\n",
    "    total_price = sum(float(input(f\"Please enter the price of {product}: \")) * quantity for product, quantity in customer_orders.items())\n",
    "    return total_price\n",
    "\n",
    "def print_order_statistics(customer_orders):\n",
    "    total_products_ordered = sum(customer_orders.values())\n",
    "    percentage_of_unique_products_ordered = (len(customer_orders) / len(products)) * 100\n",
    "    print(f\"Order Statistics:\")\n",
    "    print(f\"Total Products Ordered: {total_products_ordered}\")\n",
    "    print(f\"Percentage of Unique Products Ordered: {percentage_of_unique_products_ordered}%\")\n",
    "\n",
    "def print_updated_inventory(inventory):\n",
    "    print(\"Updated Inventory:\")\n",
    "    for product, quantity in inventory.items():\n",
    "        print(f\"{product}: {quantity}\")\n",
    "\n",
    "products = [\"t-shirt\", \"mug\", \"hat\", \"book\", \"keychain\"]\n",
    "inventory = initialize_inventory(products)\n",
    "customer_orders = get_customers_orders(products)\n",
    "inventory = update_inventory(customer_orders, inventory)\n",
    "print_order_statistics(customer_orders)\n",
    "print_updated_inventory(inventory)\n",
    "total_price = calculate_total_price(customer_orders)\n",
    "print(\"Total Price:\", total_price)\n",
    "\n"
   ]
  },
  {
   "cell_type": "code",
   "execution_count": null,
   "id": "f6582b84-6fac-47f0-93bb-6c4584fbd915",
   "metadata": {},
   "outputs": [],
   "source": []
  }
 ],
 "metadata": {
  "kernelspec": {
   "display_name": "Python 3 (ipykernel)",
   "language": "python",
   "name": "python3"
  },
  "language_info": {
   "codemirror_mode": {
    "name": "ipython",
    "version": 3
   },
   "file_extension": ".py",
   "mimetype": "text/x-python",
   "name": "python",
   "nbconvert_exporter": "python",
   "pygments_lexer": "ipython3",
   "version": "3.11.7"
  }
 },
 "nbformat": 4,
 "nbformat_minor": 5
}
